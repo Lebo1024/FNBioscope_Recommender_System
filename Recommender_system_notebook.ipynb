{
  "nbformat": 4,
  "nbformat_minor": 0,
  "metadata": {
    "colab": {
      "name": "Recommender system notebook.ipynb",
      "private_outputs": true,
      "provenance": [],
      "authorship_tag": "ABX9TyOKPxiKlBspccKc3OnNj93N",
      "include_colab_link": true
    },
    "kernelspec": {
      "name": "python3",
      "display_name": "Python 3"
    }
  },
  "cells": [
    {
      "cell_type": "markdown",
      "metadata": {
        "id": "view-in-github",
        "colab_type": "text"
      },
      "source": [
        "<a href=\"https://colab.research.google.com/github/Lebo1024/FNBioscope_Recommender_System/blob/main/Recommender_system_notebook.ipynb\" target=\"_parent\"><img src=\"https://colab.research.google.com/assets/colab-badge.svg\" alt=\"Open In Colab\"/></a>"
      ]
    },
    {
      "cell_type": "markdown",
      "metadata": {
        "id": "kJD0Tbq_pAJU"
      },
      "source": [
        "# **Introduction**"
      ]
    },
    {
      "cell_type": "markdown",
      "metadata": {
        "id": "DdGAdDfApPK1"
      },
      "source": [
        "In today’s technology driven world, recommender systems are socially and economically critical for ensuring that individuals can make appropriate choices surrounding the content they engage with on a daily basis. One application where this is especially true surrounds movie content recommendations, where intelligent algorithms can help viewers find great titles from tens of thousands of options.\r\n",
        "\r\n",
        "This notebook follows the step-by-step process to construct a recommendation algorithm based on content or collaborative filtering, capable of accurately predicting how a user will rate a movie they have not yet viewed based on their historical preferences.\r\n",
        "\r\n",
        "Providing an accurate and robust solution to this challenge has immense economic potential, with users of the system being exposed to content they would like to view or purchase - generating revenue and platform affinity."
      ]
    },
    {
      "cell_type": "code",
      "metadata": {
        "id": "8sWj8n--iSZv"
      },
      "source": [
        "pip install surprise"
      ],
      "execution_count": null,
      "outputs": []
    },
    {
      "cell_type": "code",
      "metadata": {
        "id": "IGc63sz0iCiC"
      },
      "source": [
        "# data analysis libraries\r\n",
        "import pandas as pd\r\n",
        "import numpy as np\r\n",
        "\r\n",
        "# Kaggle requirements\r\n",
        "import os\r\n",
        "for dirname, _, filenames in os.walk('/kaggle/input'):\r\n",
        "    for filename in filenames:\r\n",
        "        print(os.path.join(dirname, filename))\r\n",
        "        \r\n",
        "\r\n",
        "# visualisation libraries\r\n",
        "from matplotlib import pyplot as plt\r\n",
        "import seaborn as sns\r\n",
        "from numpy.random import RandomState\r\n",
        "\r\n",
        "\r\n",
        "#word cloud\r\n",
        "%matplotlib inline\r\n",
        "import wordcloud\r\n",
        "\r\n",
        "from wordcloud import WordCloud, STOPWORDS\r\n",
        "%matplotlib inline\r\n",
        "sns.set()\r\n",
        "\r\n",
        "# visualisation libraries\r\n",
        "from matplotlib import pyplot as plt\r\n",
        "import seaborn as sns\r\n",
        "from plotly.offline import init_notebook_mode, plot, iplot\r\n",
        "import plotly.graph_objs as go\r\n",
        "init_notebook_mode(connected=True)\r\n",
        "\r\n",
        "\r\n",
        "# ML Models\r\n",
        "from surprise import Reader\r\n",
        "from surprise import Dataset\r\n",
        "from surprise.model_selection import cross_validate\r\n",
        "from surprise import NormalPredictor\r\n",
        "from surprise import KNNBasic\r\n",
        "from surprise import KNNWithMeans\r\n",
        "from surprise import KNNWithZScore\r\n",
        "from surprise import KNNBaseline\r\n",
        "from surprise import SVD\r\n",
        "from surprise import BaselineOnly\r\n",
        "from surprise import SVDpp\r\n",
        "from surprise import NMF\r\n",
        "from surprise import SlopeOne\r\n",
        "from surprise import CoClustering\r\n",
        "from surprise.accuracy import rmse\r\n",
        "from surprise import accuracy\r\n",
        "from sklearn.feature_extraction.text import CountVectorizer\r\n",
        "from sklearn.metrics.pairwise import cosine_similarity\r\n",
        "\r\n",
        "# ML Pre processing\r\n",
        "from surprise.model_selection import train_test_split\r\n",
        "from sklearn.preprocessing import StandardScaler\r\n",
        "\r\n",
        "# Hyperparameter tuning\r\n",
        "from surprise.model_selection import GridSearchCV\r\n",
        "\r\n",
        "# High performance hyperparameter tuning\r\n",
        "#from tune_sklearn import TuneSearchCV\r\n",
        "#import warnings\r\n",
        "#warnings.filterwarnings(\"ignore\")"
      ],
      "execution_count": null,
      "outputs": []
    },
    {
      "cell_type": "code",
      "metadata": {
        "id": "8cFHjw_jj6EY"
      },
      "source": [
        ""
      ],
      "execution_count": null,
      "outputs": []
    },
    {
      "cell_type": "code",
      "metadata": {
        "id": "BhczqetCjEEo"
      },
      "source": [
        ""
      ],
      "execution_count": null,
      "outputs": []
    },
    {
      "cell_type": "code",
      "metadata": {
        "id": "7j_U6Wn3jDjM"
      },
      "source": [
        "test_df = pd.read_csv('test.csv')\r\n",
        "movies = pd.read_csv('movies.csv')\r\n",
        "train = pd.read_csv(\"/content/train.csv\")\r\n",
        "imdb = pd.read_csv('imdb_data.csv')\r\n",
        "gtags = pd.read_csv(\"/content/genome_tags.csv\")\r\n",
        "gscores = pd.read_csv(\"genome_scores.csv\")\r\n",
        "tags = pd.read_csv(\"tags.csv\")\r\n",
        "links = pd.read_csv(\"links.csv\")"
      ],
      "execution_count": null,
      "outputs": []
    },
    {
      "cell_type": "code",
      "metadata": {
        "id": "2IRTWnDko_Py"
      },
      "source": [
        ""
      ],
      "execution_count": null,
      "outputs": []
    }
  ]
}